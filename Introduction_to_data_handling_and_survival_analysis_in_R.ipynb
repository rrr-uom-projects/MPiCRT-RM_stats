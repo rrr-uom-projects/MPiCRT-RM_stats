{
  "nbformat": 4,
  "nbformat_minor": 0,
  "metadata": {
    "colab": {
      "provenance": []
    },
    "kernelspec": {
      "name": "ir",
      "display_name": "R"
    },
    "language_info": {
      "name": "R"
    }
  },
  "cells": [
    {
      "cell_type": "markdown",
      "source": [
        "# Introduction to medical statistics\n",
        "Dr Alan McWilliam\n",
        "\n",
        "Version 1 - 14th November 2024\n",
        "\n",
        "\n",
        "---\n",
        "\n",
        "\n",
        "\n",
        "\n"
      ],
      "metadata": {
        "id": "oVaPUZOTMH5y"
      }
    },
    {
      "cell_type": "markdown",
      "source": [
        "In this notebook we will work through examples of the most common medical statistics which we introduce in the lecture. We will use R for this practical session. R is an open source scripting language specially designed for statistical analysis. It comes with libraries for data cleaning, survival analysis and classification models, amongst other possibilities.\n",
        "\n",
        "As this notebook uses R, you will first need to change the runtime type to 'R', in the 'Runtime' drop down menu above, select 'change runtime type'. In the pop-up box, in the drop down list, choose R."
      ],
      "metadata": {
        "id": "Rt1gfyLEWMu2"
      }
    },
    {
      "cell_type": "markdown",
      "source": [
        "\n",
        "\n",
        "---\n",
        "\n",
        "### 1. Set-up libraries\n",
        "First, we need one additional library which isn't available automatically within google colab. This will be used to plot the survival curves.\n",
        "\n",
        "(This may take a couple minutes...)"
      ],
      "metadata": {
        "id": "fkzKnST6V2jL"
      }
    },
    {
      "cell_type": "code",
      "execution_count": null,
      "metadata": {
        "id": "ASQLJB1aLKYY"
      },
      "outputs": [],
      "source": [
        "install.packages('survminer')\n",
        "\n"
      ]
    },
    {
      "cell_type": "markdown",
      "source": [
        "Now we will call the libraries needed for the script."
      ],
      "metadata": {
        "id": "k57g1PRIEUBg"
      }
    },
    {
      "cell_type": "code",
      "source": [
        "library('survival')\n",
        "library('ggplot2')\n",
        "library('survminer')\n",
        "library('dplyr')"
      ],
      "metadata": {
        "id": "4If-hBKl0sF_"
      },
      "execution_count": null,
      "outputs": []
    },
    {
      "cell_type": "markdown",
      "source": [
        "\n",
        "\n",
        "---\n",
        "### 2. Explore the data\n",
        "The library 'survival' contains example datasets which we can use to start setting up a survival analysis. Let's load the dataset 'lung', this contains demographic and clinical data from individuals with advanced lung cancer.\n",
        "\n",
        "First, let's load in the dataset into a varianble called 'lung_data'"
      ],
      "metadata": {
        "id": "et2JXRHiVvcb"
      }
    },
    {
      "cell_type": "code",
      "source": [
        "lung_data <- lung\n"
      ],
      "metadata": {
        "id": "2OMJfmvQxjf4"
      },
      "execution_count": null,
      "outputs": []
    },
    {
      "cell_type": "markdown",
      "source": [
        "Let's have a look at what is inside the data we have read and start to understand what the data looks like. There will be 10 variables:\n",
        "\n",
        "1.   nst: Institution code\n",
        "2.   time: Survival time in days\n",
        "3.   status: censoring status 1=censored, 2=dead\n",
        "4.   age: Age in years\n",
        "5.   sex: Male=1 Female=2\n",
        "6.   ph.ecog: ECOG performance score as rated by the physician. 0=asymptomatic, 1= symptomatic but completely ambulatory, 2= in bed <50% of the day, 3= in bed > 50% of the day but not bedbound, 4 = bedbound\n",
        "7.   ph.karno: Karnofsky performance score (bad=0-good=100) rated by physician\n",
        "8.   pat.karno: Karnofsky performance score (0 = bad, 100 = good) as rated by patient\n",
        "9.   meal.cal: Calories consumed at meals\n",
        "10.  wt.loss: Weight loss in last six months\n",
        "\n",
        "\n",
        "The function **'head'** will print out the first few rows of the dataframe, **'nrow'** will tell us how many rows (i.e., patients) we have available."
      ],
      "metadata": {
        "id": "y0Ryu8DExsoe"
      }
    },
    {
      "cell_type": "code",
      "source": [
        "head(lung_data)\n",
        "nrow(lung_data)"
      ],
      "metadata": {
        "id": "ffzqxCgkMA4W"
      },
      "execution_count": null,
      "outputs": []
    },
    {
      "cell_type": "markdown",
      "source": [
        "The first thing to do with any dataframe is to start to understand what the dataframe contains and what the data looks like. R has many built in functions to do this with, but we also need to ensure that the data is being handled correctly. For example, does R know if the variables are continuous variables or catagorical?\n",
        "\n",
        "Let's start by generating a **'summary'** of the dataframe and look to see if the output makes sense."
      ],
      "metadata": {
        "id": "r0ahajQ_G64h"
      }
    },
    {
      "cell_type": "code",
      "source": [
        "summary(lung_data)\n",
        "\n"
      ],
      "metadata": {
        "id": "8LRnWSXSxzxi"
      },
      "execution_count": null,
      "outputs": []
    },
    {
      "cell_type": "markdown",
      "source": [
        "Look at the summary statistics. For each we ahve a mean and medium, quartiles, max and min. This is fine for continuous variables but not appropriate for a catagorical variable. For example, sex is 1 for males and 2 for females, here we need a count for each catagory not a mean or medium. Let's update the variable list by changing the type and re-run the summary stats."
      ],
      "metadata": {
        "id": "XfdMNqYAHrs2"
      }
    },
    {
      "cell_type": "code",
      "source": [
        "lung_data$status <- factor(lung_data$status)\n",
        "lung_data$sex <- factor(lung_data$sex)\n",
        "lung_data$ph.ecog <- factor(lung_data$ph.ecog)\n",
        "lung_data$ph.karno <- factor(lung_data$ph.karno)\n",
        "lung_data$pat.karno <- factor(lung_data$pat.karno)\n",
        "\n",
        "summary(lung_data)"
      ],
      "metadata": {
        "id": "EejZyLP5IYX9"
      },
      "execution_count": null,
      "outputs": []
    },
    {
      "cell_type": "markdown",
      "source": [
        "Does this now make more sense?\n"
      ],
      "metadata": {
        "id": "f0gwy2QPJbRN"
      }
    },
    {
      "cell_type": "markdown",
      "source": [
        "### 2a. Visualising data\n",
        "It can also be helpful to start making some plots to look at what the data looks like. The form of plot will depend on the type and shape of the data. The main options being, histograms, box + whisker, violin plots.\n",
        "\n",
        "You can also use plots to visualise differences between categories. For example in this data, do males or females have greater weight loss?\n",
        "\n",
        "Let's make some plots and see what we can do..."
      ],
      "metadata": {
        "id": "TJjWzJxqJkTu"
      }
    },
    {
      "cell_type": "code",
      "source": [
        "# Plot a histogram of participants age in the study\n",
        "ggplot(data=lung_data, aes(age)) +\n",
        "  geom_histogram(breaks=seq(30,90, by = 3),\n",
        "                 col = \"skyblue\", fill = \"lightblue\", alpha = 0.5) +\n",
        "  labs(title = 'Histogram of participates age', x = \"Age\" ) +\n",
        "  theme_classic() +\n",
        "  theme(text = element_text(size = 20))\n",
        "\n",
        "# Plot histogram of the participants weight loss, split on sex\n",
        "ggplot(data=lung_data, aes(x = wt.loss, color = sex)) +\n",
        "  geom_histogram(breaks=seq(-30,70, by = 5), fill=\"white\", position=\"dodge\", alpha = 0.5) +\n",
        "  labs(title = 'Histogram of weight loss by sex', x = \"Age\" ) +\n",
        "  theme_classic() +\n",
        "  theme(text = element_text(size = 20))\n"
      ],
      "metadata": {
        "id": "-QPPugFa06C3"
      },
      "execution_count": null,
      "outputs": []
    },
    {
      "cell_type": "code",
      "source": [
        "\n",
        "# Violin plots show us the shape of the data and have many variations, here we will plot the distribution of age grouped on sex\n",
        "ggplot(lung_data, aes(x=sex, y=age)) +\n",
        "  geom_violin() +\n",
        "  stat_summary(fun.y=mean, geom=\"point\", shape=23, size=2, color = 'skyblue') +\n",
        "  labs(title = 'Violin plot of age grouped by sex') +\n",
        "  theme_classic() +\n",
        "  theme(text = element_text(size = 20))\n",
        "\n",
        "ggplot(lung_data, aes(x=sex, y=age)) +\n",
        "  geom_violin(trim=FALSE, fill=\"gray\") +\n",
        "  geom_boxplot(width=0.3) +\n",
        "  labs(title = 'Violin plot of age grouped by sex') +\n",
        "  theme_classic() +\n",
        "  theme(text = element_text(size = 20))\n",
        "\n"
      ],
      "metadata": {
        "id": "rrveG3N0lp-6"
      },
      "execution_count": null,
      "outputs": []
    },
    {
      "cell_type": "code",
      "source": [
        "# scatter plot of weight loss by calories\n",
        "ggplot(lung_data, aes(x=wt.loss, y=meal.cal)) +\n",
        "  geom_point(size=2, shape=23) +\n",
        "  labs(title = 'Scatter plot of weight loss by meal calories') +\n",
        "  theme_classic() +\n",
        "  theme(text = element_text(size = 20))\n",
        "\n",
        "# Adding linear fit to the scatter plot and grouping by sex to visualise differences between men and women\n",
        "ggplot(lung_data, aes(x=wt.loss, y=meal.cal, color=sex)) +\n",
        "  geom_point(size=2, shape=19) +\n",
        "  geom_smooth(method=lm, linetype=\"dashed\", fill='skyblue') +\n",
        "  labs(title = 'Scatter plot of weight loss by meal calories') +\n",
        "  theme_classic() +\n",
        "  theme(text = element_text(size = 20))\n"
      ],
      "metadata": {
        "id": "Gdg1DPDWltAb"
      },
      "execution_count": null,
      "outputs": []
    },
    {
      "cell_type": "markdown",
      "source": [
        "### 2b. Understanding the data\n",
        "We can also explore summary statistics and identify significant differences between groups.\n",
        "\n",
        "Consider the use of parametric tests (assume normality in the data) and non-parametric test (do not assume normality in the data). To test for normality you can use the **shapiro.test**, this compares the distribution to a normal distribution, a p>0.05 shows there is no significant difference from a normal distribution and parametric tests could be used.\n",
        "\n",
        "For example - testing age in the cell below.\n"
      ],
      "metadata": {
        "id": "Unq18v3RPjrw"
      }
    },
    {
      "cell_type": "code",
      "source": [
        "shapiro.test(lung_data$age)"
      ],
      "metadata": {
        "id": "H23ghEviPoRM"
      },
      "execution_count": null,
      "outputs": []
    },
    {
      "cell_type": "markdown",
      "source": [
        "**Some common examples to get started, this list is not exhaustive!**\n",
        "\n",
        "Examples for continuous variables:\n",
        "*   students t-test for parametric data\n",
        "*   Wilcoxon signed-rank test for non-parametric data\n",
        "\n",
        "Testing against a catagorical variable could be done with an ANOVA\n",
        "\n",
        "Correlations between variables can also be investiagated using:\n",
        "*   Pearson\n",
        "*   Spearman (non parameteric, ranks a monotonic relationship)\n",
        "\n",
        "\n",
        "\n"
      ],
      "metadata": {
        "id": "divd7xcuRAjq"
      }
    },
    {
      "cell_type": "code",
      "source": [
        "# Some examples of the tests described above\n",
        "\n",
        "t.test(age ~ sex, data = lung_data)\n",
        "wilcox.test(age ~ sex, data = lung_data)\n",
        "\n",
        "wilcox.test(wt.loss ~ sex, data = lung_data)\n"
      ],
      "metadata": {
        "id": "vOdWIwzgT4qo"
      },
      "execution_count": null,
      "outputs": []
    },
    {
      "cell_type": "markdown",
      "source": [
        "We can see there is no significant difference in age between male and females in the dataset.\n",
        "We can, however, see a significant difference in weight loss. To get a fuller picture, we can use the next cell to provide a summary of the weight loss for males (sex = 1) and females (sex = 2), showing that males (in general) lose significantly more weight.\n"
      ],
      "metadata": {
        "id": "IV4krzzXVGqX"
      }
    },
    {
      "cell_type": "code",
      "source": [
        "tapply(lung_data$wt.loss, lung_data$sex, summary)"
      ],
      "metadata": {
        "id": "afDwk8b1U0mp"
      },
      "execution_count": null,
      "outputs": []
    },
    {
      "cell_type": "markdown",
      "source": [
        "Testing catagorical data using an ANOVA test, this allows us to compare means in a situation where there are more than two groups. Here, using the multiple groups in the ECOG performance status."
      ],
      "metadata": {
        "id": "LC2Ir6kFVplR"
      }
    },
    {
      "cell_type": "code",
      "source": [
        "# Clean the data to remove the NA's in the performance status\n",
        "# We will also remove the performance status 3 patient as there is only one with this value which will not result in any statistical power\n",
        "\n",
        "lung_data <- lung_data %>%\n",
        "  filter(ph.ecog %in% c(0,1,2))\n",
        "\n",
        "summary(factor(lung_data$ph.ecog))\n",
        "\n",
        "test_aov <- aov(wt.loss ~ ph.ecog, data = lung_data)\n",
        "summary(test_aov)"
      ],
      "metadata": {
        "id": "4PLor7meVnxC"
      },
      "execution_count": null,
      "outputs": []
    },
    {
      "cell_type": "markdown",
      "source": [
        "So, in the above test, we can see that there is a significant in the groups, but we don't know between which groups (or indeed, possibly, between all groups). To check where we see significance we can use a Tukey test to comapre the means between all groups.   "
      ],
      "metadata": {
        "id": "cHxFdbQOXvSu"
      }
    },
    {
      "cell_type": "code",
      "source": [
        "TukeyHSD(test_aov)"
      ],
      "metadata": {
        "id": "RkCERCpvXu9G"
      },
      "execution_count": null,
      "outputs": []
    },
    {
      "cell_type": "markdown",
      "source": [
        "From the box above, we can see there is a significance difference in weight loss between patients with ECOG performance status 0 and 2."
      ],
      "metadata": {
        "id": "zcvNJCdHhrol"
      }
    },
    {
      "cell_type": "markdown",
      "source": [
        "Finally, we will look at how to stest for correlations between variables."
      ],
      "metadata": {
        "id": "Wx1o4U27h4P9"
      }
    },
    {
      "cell_type": "code",
      "source": [
        "cor.test(lung_data$meal.cal, lung_data$wt.loss, method = \"pearson\")\n",
        "cor.test(lung_data$meal.cal, lung_data$wt.loss, method = \"spearman\")"
      ],
      "metadata": {
        "id": "bxaadb7dhpxe"
      },
      "execution_count": null,
      "outputs": []
    },
    {
      "cell_type": "markdown",
      "source": [
        "So, no correlation between weight loss and meal calories in this example and the correlation coefficients are also very low. If you remember the scatter plot from above then this is not an unexpected result!\n"
      ],
      "metadata": {
        "id": "8X9ayS0MihSZ"
      }
    },
    {
      "cell_type": "markdown",
      "source": [
        "\n",
        "\n",
        "---\n",
        "### 3. Survial analysis\n",
        "\n",
        "Now, let's start building a survival function and plot our first survival graph. First, we will use the function **survfit** to create a survival function, we can also call this to provide summary statistics for the population.\n",
        "\n",
        "(The survival function expects events to be 0 (no event) or 1 (event), the first lines of code changes the cataogories to work with the function.)"
      ],
      "metadata": {
        "id": "0hBpF5N8Xbh7"
      }
    },
    {
      "cell_type": "code",
      "source": [
        "#cleaning the data so teh survival event entries are as epected by the Surv function\n",
        "\n",
        "lung_data_surv <- lung_data %>%\n",
        "  mutate(status = case_when(status == 2 ~ 1,\n",
        "                            status == 1 ~ 0))\n",
        "\n",
        "\n"
      ],
      "metadata": {
        "id": "mEcT2ZJ0zVGA"
      },
      "execution_count": null,
      "outputs": []
    },
    {
      "cell_type": "markdown",
      "source": [
        "First, let's look at the survival curve for the full cohort. In the survival function below, we denote this using the **~1**.\n",
        "\n",
        "Printing the function (**s1**) will provide median survival times for the cohort, and if we specify groups, for each group in turn.\n"
      ],
      "metadata": {
        "id": "n4P5Cg3CkIcH"
      }
    },
    {
      "cell_type": "code",
      "source": [
        "s1 <- survfit(Surv(time, status) ~ 1, data = lung_data_surv)\n",
        "s1\n"
      ],
      "metadata": {
        "id": "srxyMfytaD4s"
      },
      "execution_count": null,
      "outputs": []
    },
    {
      "cell_type": "markdown",
      "source": [
        "Now we have the **survfit** function, we can plot our first Kaplan Meier curve."
      ],
      "metadata": {
        "id": "JaYxH4D-mLn5"
      }
    },
    {
      "cell_type": "code",
      "source": [
        "ggsurvplot(s1, risk.table = TRUE, conf.int = TRUE, ncensor.plot = FALSE)\n",
        "\n"
      ],
      "metadata": {
        "id": "yqiUWliWz1iQ"
      },
      "execution_count": null,
      "outputs": []
    },
    {
      "cell_type": "markdown",
      "source": [
        "Now, let's look to see if men and women have different survival times."
      ],
      "metadata": {
        "id": "EbPe0HE3mXs_"
      }
    },
    {
      "cell_type": "code",
      "source": [
        "s2 <- survfit(Surv(time, status) ~ sex, data = lung_data_surv)\n",
        "s2"
      ],
      "metadata": {
        "id": "sIWji7-gaudE"
      },
      "execution_count": null,
      "outputs": []
    },
    {
      "cell_type": "code",
      "source": [
        "ggsurvplot(s2, risk.table = TRUE, conf.int = TRUE, surv.median.line = \"hv\", pval = TRUE,ncensor.plot = FALSE)\n"
      ],
      "metadata": {
        "id": "f2y1A8ZCarkf"
      },
      "execution_count": null,
      "outputs": []
    },
    {
      "cell_type": "markdown",
      "source": [
        "We can create different groups to test for survival differences, but be careful you don't start to p-hack....\n"
      ],
      "metadata": {
        "id": "2Bh8ME5Emiot"
      }
    },
    {
      "cell_type": "code",
      "source": [
        "print(paste('Median calorie intake in population is', median(lung_data_surv$meal.cal, na.rm = TRUE), sep = ' '))\n",
        "\n",
        "lung_data_surv$cal_split <- lung_data_surv$meal.cal > median(lung_data_surv$meal.cal, na.rm = TRUE)\n",
        "#lung_data_surv$cal_split <- lung_data_surv$meal.cal > 398   ### this is me trying to p-hack!!!!\n",
        "\n",
        "s3 <- survfit(Surv(time, status) ~ cal_split, data = lung_data_surv)\n",
        "s3\n",
        "ggsurvplot(s3, risk.table = TRUE, conf.int = TRUE, surv.median.line = \"hv\", pval = TRUE,ncensor.plot = FALSE)\n",
        "\n"
      ],
      "metadata": {
        "id": "p68ZCWT_mqgz"
      },
      "execution_count": null,
      "outputs": []
    },
    {
      "cell_type": "markdown",
      "source": [
        "\n",
        "\n",
        "\n",
        "---\n",
        "\n",
        "### 4. Cox proportional hazards model\n",
        "In this section we will start to build up a cox model to investigate univariable and multivariable models for survival.\n",
        "\n",
        "First, let's build a uni- (one) variable cox model.\n"
      ],
      "metadata": {
        "id": "URas5ohra_iX"
      }
    },
    {
      "cell_type": "code",
      "source": [
        "univariable_cox <- coxph(Surv(time, status) ~ sex, data = lung_data_surv)\n",
        "\n",
        "summary(univariable_cox)"
      ],
      "metadata": {
        "id": "8S40S4UhbCAl"
      },
      "execution_count": null,
      "outputs": []
    },
    {
      "cell_type": "markdown",
      "source": [
        "If you remember from the lecture, the exp(coef) will give us the **hazard ratio** for the variable. The confidence intervals are also presented for the hazard ratio in the second row above.\n",
        "\n",
        "In this case, age is significantly associated with survival. The hazard ratio is 0.6, which indicated the risk of death is decreasing as an individual becomes older."
      ],
      "metadata": {
        "id": "tLpHa8vir7O7"
      }
    },
    {
      "cell_type": "markdown",
      "source": [
        "The format for a multivariable model is the same, we just add any additional variables of interest after the **~** using a **+** between variables."
      ],
      "metadata": {
        "id": "jkm7xGpLqyyf"
      }
    },
    {
      "cell_type": "code",
      "source": [
        "multivariable_cox <- coxph(Surv(time, status) ~ sex + age + ph.ecog + wt.loss, data = lung_data_surv)\n",
        "\n",
        "summary(multivariable_cox)"
      ],
      "metadata": {
        "id": "UoKpCmKkbi-l"
      },
      "execution_count": null,
      "outputs": []
    },
    {
      "cell_type": "markdown",
      "source": [
        "In the above table, look to see how continuous variables (age and weight loss) and catagorical variables (sex and ECOG performance status) are handled. For a catogorical variable, each catagory in turn is compared to the refernce catagory, default is the first. i.e., each ECOG is compared against ECOG = 0.\n"
      ],
      "metadata": {
        "id": "VOHDKMDmraea"
      }
    },
    {
      "cell_type": "markdown",
      "source": [
        "We can also present a visualisation of the hazard ratios, these figures are called forest plots. This will plot the hazard ratios, with the confidence interval shown. If the confidence intervals includes the value 1, this visually indicates this variable does not have a significance association with the outcome.\n"
      ],
      "metadata": {
        "id": "OjukUOjYr0as"
      }
    },
    {
      "cell_type": "code",
      "source": [
        "ggforest(multivariable_cox)"
      ],
      "metadata": {
        "id": "KEUkdLcacBEX"
      },
      "execution_count": null,
      "outputs": []
    },
    {
      "cell_type": "markdown",
      "source": [
        "\n",
        "---\n",
        "### 4. Odds ratios\n",
        "\n",
        "In this final section we will have a look at Odds ratios. As we discussed, the main difference between Odds ratios and the Cox proportional hazards models is that the Odds ratio does not handle time to an event.\n",
        "\n",
        "Here, we will use the **status** variable as our event, **i.e., we don't care when the event happen, just that is has happend.** From our dataset, we will\n",
        "set our exposure as being female and calculate the odd ratio for death of being female compared to being male."
      ],
      "metadata": {
        "id": "SPg_NDfrP2X7"
      }
    },
    {
      "cell_type": "code",
      "source": [
        "## Method 1 - very manual\n",
        "## First we will extract the data into a matrix, showing us how many events are in each group\n",
        "\n",
        "event_count_female <- lung_data_surv %>%\n",
        "  filter(sex == 2) %>%\n",
        "  group_by(status) %>%\n",
        "  summarise(n = n())\n",
        "\n",
        "event_count_male <- lung_data_surv %>%\n",
        "  filter(sex == 1) %>%\n",
        "  group_by(status) %>%\n",
        "  summarise(n = n())\n",
        "\n",
        "event_count <- event_count_female\n",
        "event_count$tmp <- event_count_male[,2]\n",
        "\n",
        "colnames(event_count) <- c('event', 'female', 'male')\n",
        "event_count <- t(event_count)\n",
        "event_count"
      ],
      "metadata": {
        "id": "ob2EZu7eP4Dv"
      },
      "execution_count": null,
      "outputs": []
    },
    {
      "cell_type": "code",
      "source": [
        "## Now let's calculate the odds of an event for each group\n",
        "## want event yes / event no\n",
        "\n",
        "odds_female = event_count[2,2] / event_count[2,1]\n",
        "odds_male = event_count[3,2] / event_count[3,1]\n",
        "\n",
        "odds_female\n",
        "odds_male\n",
        "\n"
      ],
      "metadata": {
        "id": "XKdxzkiIz2tk"
      },
      "execution_count": null,
      "outputs": []
    },
    {
      "cell_type": "code",
      "source": [
        "## And calculated the odds ratio\n",
        "odds_ratio = odds_female / odds_male\n",
        "odds_ratio"
      ],
      "metadata": {
        "id": "xEo4yQX21IBt"
      },
      "execution_count": null,
      "outputs": []
    },
    {
      "cell_type": "markdown",
      "source": [
        "So, female participants in the cohort are 0.34 times less likely of risk of death in the study than males.\n",
        "\n",
        "Let's try something simpler. We can use a linear model to calculate the odds ratio in two steps. Like above for the cox proportional hazards model, is we take the exponential of the coefficient(s) from the linear model we calculate the odds ratio.\n",
        "\n",
        "Let's try..."
      ],
      "metadata": {
        "id": "u1nePeq31SPN"
      }
    },
    {
      "cell_type": "code",
      "source": [
        "linear_model <- glm(status ~ sex, family = \"binomial\", data = lung_data_surv)\n",
        "summary(linear_model)\n",
        "\n",
        "exp(coefficients(linear_model))\n",
        "\n"
      ],
      "metadata": {
        "id": "lINEzcj01Ypr"
      },
      "execution_count": null,
      "outputs": []
    },
    {
      "cell_type": "markdown",
      "source": [
        "So, for sex2 (i.e., female) the odds ratio is 0.34, same answer as above working manually!\n",
        "\n",
        "The nice thing about the linear model is it can allow for multivariable models too.\n",
        "\n",
        "\n",
        "---\n",
        "\n"
      ],
      "metadata": {
        "id": "R6eH2n7R4wWz"
      }
    }
  ]
}